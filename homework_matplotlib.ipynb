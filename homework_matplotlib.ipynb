{
 "cells": [
  {
   "cell_type": "markdown",
   "id": "404de087-273d-4466-b8b4-d69fe37096a4",
   "metadata": {},
   "source": [
    "# Task 1"
   ]
  },
  {
   "cell_type": "code",
   "execution_count": 42,
   "id": "7341a7be-1ebf-436e-a05e-3ffe7f2ddb74",
   "metadata": {},
   "outputs": [],
   "source": [
    "# Importar de la libería\n",
    "\n",
    "import matplotlib.pyplot as plt\n",
    "import numpy as np"
   ]
  },
  {
   "cell_type": "code",
   "execution_count": 44,
   "id": "74b4fbed-909c-4448-9506-f8723bdfb02f",
   "metadata": {},
   "outputs": [
    {
     "name": "stdout",
     "output_type": "stream",
     "text": [
      "a =  2.5066282746310002 \n",
      " b =  25.06628274631 \n",
      " c =  0.039894228040143274 \n",
      " d =  1.0 \n",
      " e =  -0.5 \n",
      " euler = 0.6065306597126334 \n",
      " y = 0.02419707245191434\n"
     ]
    }
   ],
   "source": [
    "# Desarrollo de la función\n",
    "\n",
    "#sigma = [10.0]\n",
    "#x = list(range(1,11)) # aquí debe da lista del 1 al 10\n",
    "#y = (1/(sigma*np.sqrt(2*np.pi)))*np.exp((-1/2)*(x/sigma)**2)\n",
    "\n",
    "x = 10\n",
    "sigma = 10\n",
    "a = np.sqrt(2*np.pi) # raiz de 2 pi\n",
    "b = a*sigma\n",
    "c = 1/b\n",
    "#print(\"a = \",a,\"b = \",b, \"c = \",c)\n",
    "\n",
    "#parte del euler\n",
    "d = (x/sigma)**2\n",
    "#print(\"d = \", d)\n",
    "e = -1/2*d\n",
    "euler = np.exp(e)\n",
    "#print(\"e = \",e, \"euler =\",euler)\n",
    "\n",
    "#Función total\n",
    "y = c * euler\n",
    "print(\"a = \",a,\"\\n\",\"b = \",b,\"\\n\",\"c = \",c,\"\\n\",\"d = \", d,\"\\n\",\"e = \",e,\"\\n\",\"euler =\",euler,\"\\n\",\"y =\", y)\n"
   ]
  },
  {
   "cell_type": "code",
   "execution_count": null,
   "id": "83064296-6258-4d16-ac5c-f596d6098141",
   "metadata": {},
   "outputs": [],
   "source": [
    "# Gráfica\n",
    "\n",
    "plt.plot(x,y, linestyle = \"-\", label = \"sigma = \")\n",
    "plt.plot(x,y, linestyle = \"*\", label = \"sigma = \")\n",
    "plt.plot(x,y, linestyle = \".\", label = \"sigma = \")\n",
    "plt.legend()\n",
    "plt.title(\"Función Gaussiana\")\n",
    "plt.xlabel(\"x\")\n",
    "plt.ylabel(\"y\")\n",
    "\n",
    "plt.show()\n"
   ]
  },
  {
   "cell_type": "markdown",
   "id": "667ec2bd-0369-42ff-a64b-64dbbe266713",
   "metadata": {},
   "source": [
    "# Task 2"
   ]
  },
  {
   "cell_type": "code",
   "execution_count": 116,
   "id": "b6ad0268-e886-40f3-8314-23aa5067143d",
   "metadata": {},
   "outputs": [
    {
     "data": {
      "text/plain": [
       "PosixPath('data/temperature-central-park.dat')"
      ]
     },
     "execution_count": 116,
     "metadata": {},
     "output_type": "execute_result"
    }
   ],
   "source": [
    "from pathlib import Path\n",
    "temperaturas = Path(\".\")/\"data\"/\"temperature-central-park.dat\"\n",
    "temperaturas"
   ]
  },
  {
   "cell_type": "code",
   "execution_count": 110,
   "id": "007be0b2-b393-4845-9a9a-533df2577eca",
   "metadata": {},
   "outputs": [
    {
     "ename": "FileNotFoundError",
     "evalue": "data/temperature-central-park.dat not found.",
     "output_type": "error",
     "traceback": [
      "\u001b[0;31m---------------------------------------------------------------------------\u001b[0m",
      "\u001b[0;31mFileNotFoundError\u001b[0m                         Traceback (most recent call last)",
      "Input \u001b[0;32mIn [112]\u001b[0m, in \u001b[0;36m<cell line: 1>\u001b[0;34m()\u001b[0m\n\u001b[0;32m----> 1\u001b[0m datos \u001b[38;5;241m=\u001b[39m \u001b[43mnp\u001b[49m\u001b[38;5;241;43m.\u001b[39;49m\u001b[43mloadtxt\u001b[49m\u001b[43m(\u001b[49m\u001b[43mvariable\u001b[49m\u001b[43m)\u001b[49m\n\u001b[1;32m      2\u001b[0m datos\n",
      "File \u001b[0;32m/opt/tljh/user/envs/coco/lib/python3.10/site-packages/numpy/lib/npyio.py:1042\u001b[0m, in \u001b[0;36mloadtxt\u001b[0;34m(fname, dtype, comments, delimiter, converters, skiprows, usecols, unpack, ndmin, encoding, max_rows, like)\u001b[0m\n\u001b[1;32m   1040\u001b[0m     fname \u001b[38;5;241m=\u001b[39m os_fspath(fname)\n\u001b[1;32m   1041\u001b[0m \u001b[38;5;28;01mif\u001b[39;00m _is_string_like(fname):\n\u001b[0;32m-> 1042\u001b[0m     fh \u001b[38;5;241m=\u001b[39m \u001b[43mnp\u001b[49m\u001b[38;5;241;43m.\u001b[39;49m\u001b[43mlib\u001b[49m\u001b[38;5;241;43m.\u001b[39;49m\u001b[43m_datasource\u001b[49m\u001b[38;5;241;43m.\u001b[39;49m\u001b[43mopen\u001b[49m\u001b[43m(\u001b[49m\u001b[43mfname\u001b[49m\u001b[43m,\u001b[49m\u001b[43m \u001b[49m\u001b[38;5;124;43m'\u001b[39;49m\u001b[38;5;124;43mrt\u001b[39;49m\u001b[38;5;124;43m'\u001b[39;49m\u001b[43m,\u001b[49m\u001b[43m \u001b[49m\u001b[43mencoding\u001b[49m\u001b[38;5;241;43m=\u001b[39;49m\u001b[43mencoding\u001b[49m\u001b[43m)\u001b[49m\n\u001b[1;32m   1043\u001b[0m     fencoding \u001b[38;5;241m=\u001b[39m \u001b[38;5;28mgetattr\u001b[39m(fh, \u001b[38;5;124m'\u001b[39m\u001b[38;5;124mencoding\u001b[39m\u001b[38;5;124m'\u001b[39m, \u001b[38;5;124m'\u001b[39m\u001b[38;5;124mlatin1\u001b[39m\u001b[38;5;124m'\u001b[39m)\n\u001b[1;32m   1044\u001b[0m     line_iter \u001b[38;5;241m=\u001b[39m \u001b[38;5;28miter\u001b[39m(fh)\n",
      "File \u001b[0;32m/opt/tljh/user/envs/coco/lib/python3.10/site-packages/numpy/lib/_datasource.py:193\u001b[0m, in \u001b[0;36mopen\u001b[0;34m(path, mode, destpath, encoding, newline)\u001b[0m\n\u001b[1;32m    156\u001b[0m \u001b[38;5;124;03m\"\"\"\u001b[39;00m\n\u001b[1;32m    157\u001b[0m \u001b[38;5;124;03mOpen `path` with `mode` and return the file object.\u001b[39;00m\n\u001b[1;32m    158\u001b[0m \n\u001b[0;32m   (...)\u001b[0m\n\u001b[1;32m    189\u001b[0m \n\u001b[1;32m    190\u001b[0m \u001b[38;5;124;03m\"\"\"\u001b[39;00m\n\u001b[1;32m    192\u001b[0m ds \u001b[38;5;241m=\u001b[39m DataSource(destpath)\n\u001b[0;32m--> 193\u001b[0m \u001b[38;5;28;01mreturn\u001b[39;00m \u001b[43mds\u001b[49m\u001b[38;5;241;43m.\u001b[39;49m\u001b[43mopen\u001b[49m\u001b[43m(\u001b[49m\u001b[43mpath\u001b[49m\u001b[43m,\u001b[49m\u001b[43m \u001b[49m\u001b[43mmode\u001b[49m\u001b[43m,\u001b[49m\u001b[43m \u001b[49m\u001b[43mencoding\u001b[49m\u001b[38;5;241;43m=\u001b[39;49m\u001b[43mencoding\u001b[49m\u001b[43m,\u001b[49m\u001b[43m \u001b[49m\u001b[43mnewline\u001b[49m\u001b[38;5;241;43m=\u001b[39;49m\u001b[43mnewline\u001b[49m\u001b[43m)\u001b[49m\n",
      "File \u001b[0;32m/opt/tljh/user/envs/coco/lib/python3.10/site-packages/numpy/lib/_datasource.py:532\u001b[0m, in \u001b[0;36mDataSource.open\u001b[0;34m(self, path, mode, encoding, newline)\u001b[0m\n\u001b[1;32m    529\u001b[0m     \u001b[38;5;28;01mreturn\u001b[39;00m _file_openers[ext](found, mode\u001b[38;5;241m=\u001b[39mmode,\n\u001b[1;32m    530\u001b[0m                               encoding\u001b[38;5;241m=\u001b[39mencoding, newline\u001b[38;5;241m=\u001b[39mnewline)\n\u001b[1;32m    531\u001b[0m \u001b[38;5;28;01melse\u001b[39;00m:\n\u001b[0;32m--> 532\u001b[0m     \u001b[38;5;28;01mraise\u001b[39;00m \u001b[38;5;167;01mFileNotFoundError\u001b[39;00m(\u001b[38;5;124mf\u001b[39m\u001b[38;5;124m\"\u001b[39m\u001b[38;5;132;01m{\u001b[39;00mpath\u001b[38;5;132;01m}\u001b[39;00m\u001b[38;5;124m not found.\u001b[39m\u001b[38;5;124m\"\u001b[39m)\n",
      "\u001b[0;31mFileNotFoundError\u001b[0m: data/temperature-central-park.dat not found."
     ]
    }
   ],
   "source": [
    "datos = np.loadtxt(temperaturas)\n",
    "datos\n",
    "\n",
    "# No me resultó"
   ]
  },
  {
   "cell_type": "code",
   "execution_count": 67,
   "id": "fd3a472a-bbc4-4905-bbae-3b3372b9afbd",
   "metadata": {},
   "outputs": [],
   "source": [
    "datos = np.array([[1,36.5],\n",
    "[2, 43.5],\n",
    "[3, 36.0],\n",
    "[4, 39.0],\n",
    "[5, 39.0],\n",
    "[6, 37.5],\n",
    "[7, 35.5],\n",
    "[8, 32.0],\n",
    "[9, 30.5],\n",
    "[10, 35.0],\n",
    "[11, 32.5],\n",
    "[12, 38.5],\n",
    "[13, 39.0],\n",
    "[14, 44.0],\n",
    "[15, 42.0],\n",
    "[16, 42.0],\n",
    "[17, 39.5],\n",
    "[18, 41.0],\n",
    "[19, 39.0],\n",
    "[20, 33.5],\n",
    "[21, 34.0],\n",
    "[22, 40.5],\n",
    "[23, 30.0],\n",
    "[24, 27.0],\n",
    "[25, 30.0],\n",
    "[26, 32.5],\n",
    "[27, 34.0],\n",
    "[28, 27.0],\n",
    "[29, 19.5],\n",
    "[30, 24.5],\n",
    "[31, 23.0]])"
   ]
  },
  {
   "cell_type": "code",
   "execution_count": 78,
   "id": "2759b406-0503-4190-9aee-9159a0c0c217",
   "metadata": {},
   "outputs": [
    {
     "data": {
      "text/plain": [
       "array([36.5, 43.5, 36. , 39. , 39. , 37.5, 35.5, 32. , 30.5, 35. , 32.5,\n",
       "       38.5, 39. , 44. , 42. , 42. , 39.5, 41. , 39. , 33.5, 34. , 40.5,\n",
       "       30. , 27. , 30. , 32.5, 34. , 27. , 19.5, 24.5, 23. ])"
      ]
     },
     "execution_count": 78,
     "metadata": {},
     "output_type": "execute_result"
    }
   ],
   "source": [
    "año, farenheit = datos[:,0], datos[:,1]\n",
    "farenheit"
   ]
  },
  {
   "cell_type": "code",
   "execution_count": 79,
   "id": "48844cf3-00a0-4ae4-ab87-df22e6ced786",
   "metadata": {},
   "outputs": [
    {
     "data": {
      "text/plain": [
       "array([ 2.5       ,  6.38888889,  2.22222222,  3.88888889,  3.88888889,\n",
       "        3.05555556,  1.94444444,  0.        , -0.83333333,  1.66666667,\n",
       "        0.27777778,  3.61111111,  3.88888889,  6.66666667,  5.55555556,\n",
       "        5.55555556,  4.16666667,  5.        ,  3.88888889,  0.83333333,\n",
       "        1.11111111,  4.72222222, -1.11111111, -2.77777778, -1.11111111,\n",
       "        0.27777778,  1.11111111, -2.77777778, -6.94444444, -4.16666667,\n",
       "       -5.        ])"
      ]
     },
     "execution_count": 79,
     "metadata": {},
     "output_type": "execute_result"
    }
   ],
   "source": [
    "Celcius = 5/9*(farenheit - 32)\n",
    "Celcius"
   ]
  },
  {
   "cell_type": "code",
   "execution_count": 101,
   "id": "8cc97eb1-d8df-4029-ab0f-bf1c760a4d89",
   "metadata": {},
   "outputs": [
    {
     "data": {
      "image/png": "[encoded data removed]",
      "text/plain": [
       "<Figure size 432x288 with 1 Axes>"
      ]
     },
     "metadata": {
      "needs_background": "light"
     },
     "output_type": "display_data"
    }
   ],
   "source": [
    "# Gráfica\n",
    "\n",
    "plt.plot(año,Celcius, linestyle = \":\", color = \"purple\")\n",
    "plt.xlabel(\"Días de Enero\")\n",
    "plt.ylabel(\"Temperatura (°C)\")\n",
    "plt.title(\"Temperaturas diarias en Central Park, New York (2021)\")\n",
    "plt.grid()\n",
    "plt.show()\n"
   ]
  },
  {
   "cell_type": "code",
   "execution_count": null,
   "id": "81df22a4-3dbf-4551-a958-de36a4f52750",
   "metadata": {},
   "outputs": [],
   "source": []
  }
 ],
 "metadata": {
  "kernelspec": {
   "display_name": "CoCo",
   "language": "python",
   "name": "coco"
  },
  "language_info": {
   "codemirror_mode": {
    "name": "ipython",
    "version": 3
   },
   "file_extension": ".py",
   "mimetype": "text/x-python",
   "name": "python",
   "nbconvert_exporter": "python",
   "pygments_lexer": "ipython3",
   "version": "3.10.4"
  }
 },
 "nbformat": 4,
 "nbformat_minor": 5
}
