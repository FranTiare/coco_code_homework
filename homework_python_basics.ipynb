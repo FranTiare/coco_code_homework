{
 "cells": [
  {
   "cell_type": "markdown",
   "id": "2fab9a2a-481e-4cbe-96e6-9059160ef40b",
   "metadata": {},
   "source": [
    "### Task 1"
   ]
  },
  {
   "cell_type": "code",
   "execution_count": 38,
   "id": "174550df-059c-4a32-bf96-b4551544f609",
   "metadata": {},
   "outputs": [
    {
     "name": "stdout",
     "output_type": "stream",
     "text": [
      "['Mercurio', 'Venus', 'Tierra', 'Marte', 'Jupiter', 'Saturno', 'Urano', 'Neptuno']\n"
     ]
    }
   ],
   "source": [
    "Planetas = [\"Mercurio\",\"Venus\",\"Tierra\",\"Marte\",\"Jupiter\",\"Saturno\",\"Urano\",\"Neptuno\"]\n",
    "print(Planetas)"
   ]
  },
  {
   "cell_type": "code",
   "execution_count": 37,
   "id": "20df11b0-d8aa-40f8-a884-19df06f50345",
   "metadata": {},
   "outputs": [
    {
     "name": "stdout",
     "output_type": "stream",
     "text": [
      "Existen  8  planetas en el sistema solar\n"
     ]
    }
   ],
   "source": [
    "cantidad = len(Planetas)\n",
    "print(\"Existen \",cantidad,\" planetas en el sistema solar\")"
   ]
  },
  {
   "cell_type": "code",
   "execution_count": 39,
   "id": "71479351-6000-4653-a3da-e33d06ad96f6",
   "metadata": {},
   "outputs": [
    {
     "name": "stdout",
     "output_type": "stream",
     "text": [
      "los primeros 4 planetas del sistema solar son  ['Mercurio', 'Venus', 'Tierra', 'Marte']\n"
     ]
    }
   ],
   "source": [
    "cuatro =Planetas[:4]\n",
    "print(\"los primeros 4 planetas del sistema solar son \",cuatro)"
   ]
  },
  {
   "cell_type": "code",
   "execution_count": 20,
   "id": "3a7b7bad-0e62-4011-9e60-63cea571d5f5",
   "metadata": {},
   "outputs": [],
   "source": [
    "ese = Planetas[1]"
   ]
  },
  {
   "cell_type": "code",
   "execution_count": 24,
   "id": "46d457ee-6812-4332-a69b-4bc3d169f79e",
   "metadata": {},
   "outputs": [
    {
     "name": "stdout",
     "output_type": "stream",
     "text": [
      "el planeta que termina con una s del sistema solar es  Venus\n"
     ]
    }
   ],
   "source": [
    "print(\"el planeta que termina con una s del sistema solar es \",ese)"
   ]
  },
  {
   "cell_type": "markdown",
   "id": "d6910e98-bf74-4844-a414-05f616aea04a",
   "metadata": {},
   "source": [
    "## Task 2"
   ]
  },
  {
   "cell_type": "code",
   "execution_count": 30,
   "id": "9819a998-6a78-41da-803a-b96fd158e5bd",
   "metadata": {},
   "outputs": [],
   "source": [
    "temperaturaF = 30.3"
   ]
  },
  {
   "cell_type": "code",
   "execution_count": 33,
   "id": "d39973b3-93ed-4aa9-8688-166c61bed21c",
   "metadata": {},
   "outputs": [],
   "source": [
    "temperaturaC = (5/9)*(temperaturaF-32)"
   ]
  },
  {
   "cell_type": "code",
   "execution_count": 36,
   "id": "9839e4f7-fdd1-4425-a8f1-a89a4f6011bc",
   "metadata": {},
   "outputs": [
    {
     "name": "stdout",
     "output_type": "stream",
     "text": [
      "la temperatura en Farenheit es de  30.3 ,el cual en grados Celcius es de  -0.9444444444444441\n"
     ]
    }
   ],
   "source": [
    "print(\"la temperatura en Farenheit es de \",temperaturaF,\",el cual en grados Celcius es de \",temperaturaC)"
   ]
  },
  {
   "cell_type": "markdown",
   "id": "02146a93-02f8-482e-8984-48d9c206dd5b",
   "metadata": {},
   "source": [
    "## Task 3"
   ]
  },
  {
   "cell_type": "code",
   "execution_count": 1,
   "id": "09bd7151-b11d-42dc-a0af-398d458823b6",
   "metadata": {},
   "outputs": [],
   "source": [
    "import numpy as np"
   ]
  },
  {
   "cell_type": "code",
   "execution_count": 2,
   "id": "204fa8ee-bbe3-4bb6-9469-ce35f43023fa",
   "metadata": {},
   "outputs": [],
   "source": [
    "array_1d = np.array([1, 2, 3, 4, 5, 6, 7, 8, 9, 10, 11, 12, 13, 14, 15, 16])"
   ]
  },
  {
   "cell_type": "markdown",
   "id": "ef1100db-f720-4d23-b06a-7d731fb35e4c",
   "metadata": {},
   "source": [
    "Reshape o reformular el array para que sea de 4x4."
   ]
  },
  {
   "cell_type": "code",
   "execution_count": 5,
   "id": "c6bcb38e-77f3-4b95-b1e3-1230188bba07",
   "metadata": {},
   "outputs": [
    {
     "name": "stdout",
     "output_type": "stream",
     "text": [
      "[[ 1  2  3  4]\n",
      " [ 5  6  7  8]\n",
      " [ 9 10 11 12]\n",
      " [13 14 15 16]]\n"
     ]
    }
   ],
   "source": [
    "# como debería de resultar\n",
    "resultado = np.array([[1,2,3,4],[5,6,7,8],[9,10,11,12],[13,14,15,16]])\n",
    "print(resultado)"
   ]
  },
  {
   "cell_type": "code",
   "execution_count": 10,
   "id": "96c7bec4-0540-44ec-a05a-3fd308adc65a",
   "metadata": {},
   "outputs": [
    {
     "name": "stdout",
     "output_type": "stream",
     "text": [
      "[[ 1  2  3  4]\n",
      " [ 5  6  7  8]\n",
      " [ 9 10 11 12]\n",
      " [13 14 15 16]]\n"
     ]
    }
   ],
   "source": [
    "# usaré reshape\n",
    "array_2d = array_1d.reshape(4,4)\n",
    "print(array_2d)"
   ]
  },
  {
   "cell_type": "markdown",
   "id": "7e7cf3de-4ae6-4ba6-be38-f5348374d4c3",
   "metadata": {
    "tags": []
   },
   "source": [
    "## Task 4"
   ]
  },
  {
   "cell_type": "code",
   "execution_count": 23,
   "id": "b2916efd-17f6-4288-9729-ca90146a70a6",
   "metadata": {},
   "outputs": [
    {
     "name": "stdout",
     "output_type": "stream",
     "text": [
      "Los grados en radianes son: [0.         0.52359878 0.78539816 1.04719755 1.57079633] \n",
      " los senos son: [0.         0.5        0.70710678 0.8660254  1.        ] \n",
      " y los cosenos son: [1.00000000e+00 8.66025404e-01 7.07106781e-01 5.00000000e-01\n",
      " 6.12323400e-17]\n"
     ]
    }
   ],
   "source": [
    "# Calcule el seno y el coseno de los ángulos: 0, 30, 45, 60 y 90 dados en grados\n",
    "grados = np.array([0, 30, 45, 60, 90])\n",
    "radianes = np.deg2rad(grados)\n",
    "\n",
    "seno = np.sin(radianes)\n",
    "coseno = np.cos(radianes)\n",
    "\n",
    "print(\"Los grados en radianes son:\", radianes, \"\\n\", \"los senos son:\", seno, \"\\n\",\"y los cosenos son:\", coseno)"
   ]
  },
  {
   "cell_type": "markdown",
   "id": "eec9cab8-4e4c-4992-a4e1-106112d9ac31",
   "metadata": {},
   "source": [
    "# Task 5"
   ]
  },
  {
   "cell_type": "code",
   "execution_count": null,
   "id": "3db6b2a7-280b-4dd6-a62f-c84e925c5a79",
   "metadata": {},
   "outputs": [],
   "source": [
    "# este está muy difícil"
   ]
  },
  {
   "cell_type": "code",
   "execution_count": null,
   "id": "2d14e426-d400-474b-aea4-9cf422fa0464",
   "metadata": {},
   "outputs": [],
   "source": []
  }
 ],
 "metadata": {
  "kernelspec": {
   "display_name": "CoCo",
   "language": "python",
   "name": "coco"
  },
  "language_info": {
   "codemirror_mode": {
    "name": "ipython",
    "version": 3
   },
   "file_extension": ".py",
   "mimetype": "text/x-python",
   "name": "python",
   "nbconvert_exporter": "python",
   "pygments_lexer": "ipython3",
   "version": "3.10.4"
  }
 },
 "nbformat": 4,
 "nbformat_minor": 5
}
