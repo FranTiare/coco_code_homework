{
 "cells": [
  {
   "cell_type": "markdown",
   "id": "85a9c331-8929-4d32-930c-53f63f2daaf5",
   "metadata": {},
   "source": [
    "# Tarea principal"
   ]
  },
  {
   "cell_type": "markdown",
   "id": "662feadc-e6ea-41e0-bf26-2ae20bfe6cf4",
   "metadata": {},
   "source": [
    "Perfil de batimetría y perturbación de la gravedad de la isla de Oahu en Hawaii"
   ]
  },
  {
   "cell_type": "code",
   "execution_count": 1,
   "id": "1232fccc-5a71-42e4-8dc1-c8a836eeb2ee",
   "metadata": {},
   "outputs": [
    {
     "data": {
      "text/html": [
       "<div>\n",
       "<style scoped>\n",
       "    .dataframe tbody tr th:only-of-type {\n",
       "        vertical-align: middle;\n",
       "    }\n",
       "\n",
       "    .dataframe tbody tr th {\n",
       "        vertical-align: top;\n",
       "    }\n",
       "\n",
       "    .dataframe thead th {\n",
       "        text-align: right;\n",
       "    }\n",
       "</style>\n",
       "<table border=\"1\" class=\"dataframe\">\n",
       "  <thead>\n",
       "    <tr style=\"text-align: right;\">\n",
       "      <th></th>\n",
       "      <th>latitude</th>\n",
       "      <th>longitude</th>\n",
       "      <th>distance_km</th>\n",
       "      <th>topography_km</th>\n",
       "      <th>disturbance_mgal</th>\n",
       "    </tr>\n",
       "  </thead>\n",
       "  <tbody>\n",
       "    <tr>\n",
       "      <th>0</th>\n",
       "      <td>13.000000</td>\n",
       "      <td>-165.000000</td>\n",
       "      <td>0.000000</td>\n",
       "      <td>-4.161000</td>\n",
       "      <td>23.008098</td>\n",
       "    </tr>\n",
       "    <tr>\n",
       "      <th>1</th>\n",
       "      <td>13.082915</td>\n",
       "      <td>-164.929648</td>\n",
       "      <td>12.070042</td>\n",
       "      <td>-4.747907</td>\n",
       "      <td>21.180807</td>\n",
       "    </tr>\n",
       "    <tr>\n",
       "      <th>2</th>\n",
       "      <td>13.165829</td>\n",
       "      <td>-164.859296</td>\n",
       "      <td>24.140085</td>\n",
       "      <td>-5.452608</td>\n",
       "      <td>18.099661</td>\n",
       "    </tr>\n",
       "    <tr>\n",
       "      <th>3</th>\n",
       "      <td>13.248744</td>\n",
       "      <td>-164.788945</td>\n",
       "      <td>36.210127</td>\n",
       "      <td>-5.581402</td>\n",
       "      <td>14.372280</td>\n",
       "    </tr>\n",
       "    <tr>\n",
       "      <th>4</th>\n",
       "      <td>13.331658</td>\n",
       "      <td>-164.718593</td>\n",
       "      <td>48.280170</td>\n",
       "      <td>-5.438978</td>\n",
       "      <td>10.606283</td>\n",
       "    </tr>\n",
       "  </tbody>\n",
       "</table>\n",
       "</div>"
      ],
      "text/plain": [
       "    latitude   longitude  distance_km  topography_km  disturbance_mgal\n",
       "0  13.000000 -165.000000     0.000000      -4.161000         23.008098\n",
       "1  13.082915 -164.929648    12.070042      -4.747907         21.180807\n",
       "2  13.165829 -164.859296    24.140085      -5.452608         18.099661\n",
       "3  13.248744 -164.788945    36.210127      -5.581402         14.372280\n",
       "4  13.331658 -164.718593    48.280170      -5.438978         10.606283"
      ]
     },
     "execution_count": 1,
     "metadata": {},
     "output_type": "execute_result"
    }
   ],
   "source": [
    "# 1.Cargar archivo\n",
    "\n",
    "import pandas as pd\n",
    "from pathlib import Path\n",
    "import matplotlib.pyplot as plt\n",
    "\n",
    "data_folder = Path(\".\")/\"data\"\n",
    "data = pd.read_csv(data_folder/\"hawaii-profile.csv\")\n",
    "data.head()"
   ]
  },
  {
   "cell_type": "code",
   "execution_count": 9,
   "id": "a8295f30-20c0-4ddc-8e81-50fa187007d3",
   "metadata": {},
   "outputs": [
    {
     "data": {
      "text/plain": [
       "True"
      ]
     },
     "execution_count": 9,
     "metadata": {},
     "output_type": "execute_result"
    }
   ],
   "source": [
    "# 2.Limpiar el DataFrame\n",
    "# 2.1 valores NaN y eliminarlos\n",
    "\n",
    "data.isnull().values.any() #Existen valores nulos?"
   ]
  },
  {
   "cell_type": "code",
   "execution_count": 8,
   "id": "cf86e735-10e9-45c6-95de-f7c593c43a66",
   "metadata": {},
   "outputs": [
    {
     "data": {
      "text/plain": [
       "(212, 5)"
      ]
     },
     "execution_count": 8,
     "metadata": {},
     "output_type": "execute_result"
    }
   ],
   "source": [
    "data.shape"
   ]
  },
  {
   "cell_type": "code",
   "execution_count": 11,
   "id": "51f20c7c-30f7-48b5-923f-fbf7536249fe",
   "metadata": {},
   "outputs": [],
   "source": [
    "data = data.dropna() # Para borrar estos valores nulos"
   ]
  },
  {
   "cell_type": "code",
   "execution_count": 12,
   "id": "29bd63cb-3c64-4478-b7cc-62ebd26ef6e7",
   "metadata": {},
   "outputs": [
    {
     "data": {
      "text/plain": [
       "(206, 5)"
      ]
     },
     "execution_count": 12,
     "metadata": {},
     "output_type": "execute_result"
    }
   ],
   "source": [
    "data.shape"
   ]
  },
  {
   "cell_type": "code",
   "execution_count": 14,
   "id": "04e48faa-4f19-4410-8695-bc8dd5bd39eb",
   "metadata": {},
   "outputs": [
    {
     "data": {
      "text/html": [
       "<div>\n",
       "<style scoped>\n",
       "    .dataframe tbody tr th:only-of-type {\n",
       "        vertical-align: middle;\n",
       "    }\n",
       "\n",
       "    .dataframe tbody tr th {\n",
       "        vertical-align: top;\n",
       "    }\n",
       "\n",
       "    .dataframe thead th {\n",
       "        text-align: right;\n",
       "    }\n",
       "</style>\n",
       "<table border=\"1\" class=\"dataframe\">\n",
       "  <thead>\n",
       "    <tr style=\"text-align: right;\">\n",
       "      <th></th>\n",
       "      <th>latitude</th>\n",
       "      <th>longitude</th>\n",
       "      <th>distance_km</th>\n",
       "      <th>topography_km</th>\n",
       "      <th>disturbance_mgal</th>\n",
       "    </tr>\n",
       "  </thead>\n",
       "  <tbody>\n",
       "    <tr>\n",
       "      <th>56</th>\n",
       "      <td>17.062814</td>\n",
       "      <td>-161.552764</td>\n",
       "      <td>591.432077</td>\n",
       "      <td>-5.542519</td>\n",
       "      <td>4.088689</td>\n",
       "    </tr>\n",
       "    <tr>\n",
       "      <th>131</th>\n",
       "      <td>23.198492</td>\n",
       "      <td>-156.346734</td>\n",
       "      <td>1484.615214</td>\n",
       "      <td>-4.237042</td>\n",
       "      <td>26.279725</td>\n",
       "    </tr>\n",
       "    <tr>\n",
       "      <th>132</th>\n",
       "      <td>23.198492</td>\n",
       "      <td>-156.346734</td>\n",
       "      <td>1484.615214</td>\n",
       "      <td>-4.237042</td>\n",
       "      <td>26.279725</td>\n",
       "    </tr>\n",
       "    <tr>\n",
       "      <th>133</th>\n",
       "      <td>23.198492</td>\n",
       "      <td>-156.346734</td>\n",
       "      <td>1484.615214</td>\n",
       "      <td>-4.237042</td>\n",
       "      <td>26.279725</td>\n",
       "    </tr>\n",
       "    <tr>\n",
       "      <th>134</th>\n",
       "      <td>23.198492</td>\n",
       "      <td>-156.346734</td>\n",
       "      <td>1484.615214</td>\n",
       "      <td>-4.237042</td>\n",
       "      <td>26.279725</td>\n",
       "    </tr>\n",
       "  </tbody>\n",
       "</table>\n",
       "</div>"
      ],
      "text/plain": [
       "      latitude   longitude  distance_km  topography_km  disturbance_mgal\n",
       "56   17.062814 -161.552764   591.432077      -5.542519          4.088689\n",
       "131  23.198492 -156.346734  1484.615214      -4.237042         26.279725\n",
       "132  23.198492 -156.346734  1484.615214      -4.237042         26.279725\n",
       "133  23.198492 -156.346734  1484.615214      -4.237042         26.279725\n",
       "134  23.198492 -156.346734  1484.615214      -4.237042         26.279725"
      ]
     },
     "execution_count": 14,
     "metadata": {},
     "output_type": "execute_result"
    }
   ],
   "source": [
    "# 2.2 Filas duplicadas y eliminarlas\n",
    "\n",
    "data[data.duplicated()] # Muestra las filas duplicadas"
   ]
  },
  {
   "cell_type": "code",
   "execution_count": 17,
   "id": "2bad5b80-7cb4-4350-b4e4-517624d5f6bc",
   "metadata": {},
   "outputs": [
    {
     "data": {
      "text/plain": [
       "(201, 5)"
      ]
     },
     "execution_count": 17,
     "metadata": {},
     "output_type": "execute_result"
    }
   ],
   "source": [
    "data = data.drop_duplicates() # Para eliminarlas\n",
    "data.shape"
   ]
  },
  {
   "cell_type": "code",
   "execution_count": null,
   "id": "1f16b1a9-fcf4-4e7b-8b06-e37607ba3660",
   "metadata": {},
   "outputs": [],
   "source": [
    "# 2.3 Cualquier otro problema como valores fuera de rango y elimínelos.\n",
    "\n",
    "## ¿cómo esto? ... así como que queden todos con la misma cantidad de decimales?"
   ]
  },
  {
   "cell_type": "code",
   "execution_count": null,
   "id": "6df2752c-f435-4a9b-a1f2-deecf12d1cdb",
   "metadata": {},
   "outputs": [],
   "source": [
    "# 3.Graficar\n",
    "# La gravity disturbance & distance y bathimetry (topography) & distance usando subplot"
   ]
  },
  {
   "cell_type": "code",
   "execution_count": 26,
   "id": "acaa9b72-6e8a-498f-93d9-de5320747458",
   "metadata": {},
   "outputs": [
    {
     "data": {
      "image/png": "[encoded data removed]",
      "text/plain": [
       "<Figure size 1080x360 with 4 Axes>"
      ]
     },
     "metadata": {
      "needs_background": "light"
     },
     "output_type": "display_data"
    }
   ],
   "source": [
    "variables = [\"disturbance_mgal\",\"distance_km\",\"topography_km\"]\n",
    "fig,axes = plt.subplots(nrows = 2, ncols = 2, sharex = True, figsize =(15,5))\n",
    "\n",
    "#disturbance\n",
    "data[variables[0]].plot(ax = axes[0,0])\n",
    "axes[0,0].set_title(variables[0])\n",
    "\n",
    "#gravity disturbance\n",
    "data[variables[1]].plot(ax = axes[0,1])\n",
    "axes[0,1].set_title(variables[1])\n",
    "\n",
    "#batrimetría\n",
    "data[variables[2]].plot(ax = axes[1,0])\n",
    "axes[1,0].set_title(variables[2])\n",
    "\n",
    "#plt.legen()\n",
    "#plt.xlabel(\"$Gravity disturbance$\", size = 12)\n",
    "#plt.ylabel(\"$Distance$\", size = 12)\n",
    "\n",
    "plt.show()\n",
    "\n",
    "## Ahora tengo que hacer que estén en un v/s y no por separado"
   ]
  },
  {
   "cell_type": "code",
   "execution_count": null,
   "id": "6e2fdd12-6182-48fe-86ea-d2c252ffef6f",
   "metadata": {},
   "outputs": [],
   "source": []
  }
 ],
 "metadata": {
  "kernelspec": {
   "display_name": "CoCo",
   "language": "python",
   "name": "coco"
  },
  "language_info": {
   "codemirror_mode": {
    "name": "ipython",
    "version": 3
   },
   "file_extension": ".py",
   "mimetype": "text/x-python",
   "name": "python",
   "nbconvert_exporter": "python",
   "pygments_lexer": "ipython3",
   "version": "3.10.4"
  }
 },
 "nbformat": 4,
 "nbformat_minor": 5
}
