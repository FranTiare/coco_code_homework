{
 "cells": [
  {
   "cell_type": "markdown",
   "id": "3d8199ca-108b-44af-9900-e61d2f253520",
   "metadata": {},
   "source": [
    "# Task 1"
   ]
  },
  {
   "cell_type": "code",
   "execution_count": 50,
   "id": "d27fc2ff-8b08-4d9e-ac4d-3233840a758d",
   "metadata": {},
   "outputs": [
    {
     "data": {
      "text/plain": [
       "[-1.0000000000000004,\n",
       " 5.0,\n",
       " 46.50000000000001,\n",
       " 25.0,\n",
       " 54.70000000000001,\n",
       " 15.0,\n",
       " 30.0,\n",
       " 17.5,\n",
       " -5.0]"
      ]
     },
     "execution_count": 50,
     "metadata": {},
     "output_type": "execute_result"
    }
   ],
   "source": [
    "# 1. Convierte la siguiente lista de temperaturas en Fahrenheit a grados Centígrados usando un for loop.\n",
    "\n",
    "temperaturas_f = [30.2, 41, 115.7, 77, 130.46, 59, 86, 63.5, 23]\n",
    "temperatura_c = []\n",
    "for farenheit in temperaturas_f:\n",
    "    celcius = 5/9*(farenheit - 32)\n",
    "    temperatura_c.append(celcius)\n",
    "#print(temperatura_c)\n",
    "temperatura_c"
   ]
  },
  {
   "cell_type": "code",
   "execution_count": 51,
   "id": "03c5977e-87be-4038-afba-dedb5c8134f5",
   "metadata": {},
   "outputs": [
    {
     "name": "stdout",
     "output_type": "stream",
     "text": [
      "-1.0000000000000004 es baja temperatura\n",
      "5.0 es normal\n",
      "46.50000000000001 es alta temperatura\n",
      "25.0 es normal\n",
      "54.70000000000001 es alta temperatura\n",
      "15.0 es normal\n",
      "30.0 es normal\n",
      "17.5 es normal\n",
      "-5.0 es baja temperatura\n"
     ]
    }
   ],
   "source": [
    "# 2.Utiliza for loops y condicionales para generar una alerta para temperaturas:\n",
    "\n",
    "for temperatura in temperatura_c:\n",
    "    if temperatura >= 35:\n",
    "        print(temperatura,\"es alta temperatura\")\n",
    "    elif temperatura <= 0:\n",
    "        print(temperatura,\"es baja temperatura\")\n",
    "    else:\n",
    "        print(temperatura,\"es normal\")"
   ]
  },
  {
   "cell_type": "code",
   "execution_count": 52,
   "id": "e1008cdb-ef97-4f33-ac5c-ff5f8881075d",
   "metadata": {},
   "outputs": [],
   "source": [
    "# 3.Genera dos funciones:\n",
    "# 3.1 una función que tome un único valor de temperatura en Fahrenheit y devuelve el mismo valor pero en Celsius.\n",
    "\n",
    "def FahrenheitCelcius(temperatura):\n",
    "    \"\"\"\n",
    "    Transforma la temperatura de Fahrenheit a Celcius\n",
    "    \n",
    "    Parameters\n",
    "    --------------------------------\n",
    "    temperatura: float or int\n",
    "                 Temperatura a Fahrenheit\n",
    "    \n",
    "    Returns\n",
    "    --------------------------------\n",
    "    resultado: floar or int\n",
    "               Temperatura en Celcius\n",
    "    \"\"\"\n",
    "    return 5/9*(temperatura-32)"
   ]
  },
  {
   "cell_type": "code",
   "execution_count": 53,
   "id": "2cbfe2a1-555c-4d14-8b8f-cbf868355467",
   "metadata": {},
   "outputs": [
    {
     "data": {
      "text/plain": [
       "5.0"
      ]
     },
     "execution_count": 53,
     "metadata": {},
     "output_type": "execute_result"
    }
   ],
   "source": [
    "FahrenheitCelcius(41)"
   ]
  },
  {
   "cell_type": "code",
   "execution_count": 8,
   "id": "d2680af8-51f0-4e7b-9f8b-ccd39b2fc4c5",
   "metadata": {},
   "outputs": [
    {
     "data": {
      "text/plain": [
       "[-1.055555555555555, 5.277777777777778, 46.111111111111114, 25.0]"
      ]
     },
     "execution_count": 8,
     "metadata": {},
     "output_type": "execute_result"
    }
   ],
   "source": [
    "# 3.1 Para un compilado de temperaturas:\n",
    "\n",
    "def FahrenheitCelcius(t1,t2,t3,t4):\n",
    "    temperatura_f = [t1,t2,t3,t4]\n",
    "    temperatura_c = []\n",
    "    for temperatura in temperatura_f:\n",
    "        celcius = 5/9*(temperatura - 32)\n",
    "        temperatura_c.append(celcius)\n",
    "    return temperatura_c\n",
    "\n",
    "FahrenheitCelcius(30.1, 41.5, 115, 77)"
   ]
  },
  {
   "cell_type": "code",
   "execution_count": 9,
   "id": "068dbab0-5dd6-4fc3-8136-770d9eeaa88a",
   "metadata": {},
   "outputs": [
    {
     "name": "stdout",
     "output_type": "stream",
     "text": [
      "5.0 es normal\n"
     ]
    }
   ],
   "source": [
    "# 3.2 Una función que toma un único valor de temperatura e imprime su correspondiente alerta de temperatura\n",
    "\n",
    "def Alerta(temperatura):\n",
    "    \"\"\"\n",
    "    Convierte la temperatura de Fahrenheit a Celcius\n",
    "    \n",
    "    Parameters\n",
    "    --------------------------------\n",
    "    temperatura: float or int\n",
    "                 Temperatura en Fahrenheit\n",
    "    \n",
    "    Returns\n",
    "    --------------------------------\n",
    "    resultado: floar or int\n",
    "               Alerta de temperatura\n",
    "    \"\"\"\n",
    "    celcius = 5/9*(temperatura-32)\n",
    "    if celcius >= 35:\n",
    "        print(celcius,\"es alta temperatura\")\n",
    "    elif celcius <= 0:\n",
    "        print(celcius,\"es baja temperatura\")\n",
    "    else:\n",
    "        print(celcius,\"es normal\")\n",
    "\n",
    "Alerta(41)"
   ]
  },
  {
   "cell_type": "code",
   "execution_count": 11,
   "id": "6c465349-d683-4c19-aefa-9b7e417d8b7c",
   "metadata": {},
   "outputs": [
    {
     "name": "stdout",
     "output_type": "stream",
     "text": [
      "-1.055555555555555 es baja temperatura\n",
      "5.277777777777778 es normal\n",
      "46.111111111111114 es alta temperatura\n",
      "25.0 es normal\n"
     ]
    }
   ],
   "source": [
    "# 3.2 Alerta para un compilado de temperaturas\n",
    "\n",
    "def Alerta(t1,t2,t3,t4):\n",
    "    fahrenheit = [t1,t2,t3,t4]\n",
    "    for temperatura in fahrenheit:\n",
    "        celcius = 5/9*(temperatura - 32)\n",
    "        if celcius >= 35:\n",
    "            print(celcius,\"es alta temperatura\")\n",
    "        elif celcius <= 0:\n",
    "            print(celcius,\"es baja temperatura\")\n",
    "        else:\n",
    "            print(celcius,\"es normal\")\n",
    "\n",
    "Alerta(30.1, 41.5, 115, 77)"
   ]
  },
  {
   "cell_type": "markdown",
   "id": "653ea241-5d80-4593-834c-75c93f337b42",
   "metadata": {},
   "source": [
    "# Task 2"
   ]
  },
  {
   "cell_type": "code",
   "execution_count": 58,
   "id": "9260052a-2ef6-48df-a431-54197937d4b9",
   "metadata": {},
   "outputs": [],
   "source": [
    "# Monitorear la velocidad del viento y la visibilidad del aeropuerto. Crear una función de alerta.\n",
    "\n",
    "def Alerta_vuelo(velocidad,visibilidad):\n",
    "    \"\"\"\n",
    "    Indicar al piloto cómo está el clima para el despege de los aviones\n",
    "    \n",
    "    Parameters\n",
    "    --------------------------------\n",
    "    velocidad: int or float\n",
    "            velocidad del viento en nudos\n",
    "    visibilidad: int or float\n",
    "                 en metros\n",
    "       \n",
    "    Returns\n",
    "    --------------------------------\n",
    "    resultado: str\n",
    "               Alerta de condición climática para el despegue\n",
    "    \"\"\"\n",
    "    if velocidad > 12 or visibilidad < 100:\n",
    "        return \"Hay mal tiempo, la pista debe cerrarse\"\n",
    "    elif 8 < velocidad < 12:\n",
    "        return \"Precaución, hay vientos fuertes\"\n",
    "    elif 100 <= visibilidad <= 500:\n",
    "        return \"Cuidado, existen bajas condiciones de visibilidad\"\n",
    "    else:\n",
    "        return \"Buenas condiciones climáticas, que tenga un buen vuelo\"    "
   ]
  },
  {
   "cell_type": "code",
   "execution_count": 59,
   "id": "603eb770-76b2-4463-9827-30421ed978d6",
   "metadata": {},
   "outputs": [
    {
     "data": {
      "text/plain": [
       "'Hay mal tiempo, la pista debe cerrarse'"
      ]
     },
     "execution_count": 59,
     "metadata": {},
     "output_type": "execute_result"
    }
   ],
   "source": [
    "Alerta_vuelo(20,50)"
   ]
  },
  {
   "cell_type": "markdown",
   "id": "581665ed-74ce-4d79-9682-02d7edb725bc",
   "metadata": {},
   "source": [
    "# Task 3"
   ]
  },
  {
   "cell_type": "code",
   "execution_count": 21,
   "id": "ce349c0f-4cef-46c1-a3d0-f52a7db97f16",
   "metadata": {},
   "outputs": [
    {
     "name": "stdout",
     "output_type": "stream",
     "text": [
      "Para x = 5 y resulta de 1.4867195147342977e-06\n"
     ]
    },
    {
     "data": {
      "image/png": "[encoded data removed]",
      "text/plain": [
       "<Figure size 432x288 with 1 Axes>"
      ]
     },
     "metadata": {
      "needs_background": "light"
     },
     "output_type": "display_data"
    },
    {
     "name": "stdout",
     "output_type": "stream",
     "text": [
      "Para x de 1 a 10, con sigma = 1 resulta la siguiente función None\n"
     ]
    }
   ],
   "source": [
    "# Función Gaussiana\n",
    "import numpy as np\n",
    "import matplotlib.pyplot as plt\n",
    "\n",
    "def Gauss1(x, sigma=1):\n",
    "    y = (1/(sigma*np.sqrt(2*np.pi)))*np.exp((-1/2)*(x/sigma)**2)          \n",
    "    return y\n",
    "\n",
    "def Gauss2(x_inicio, x_final, sigma=1):\n",
    "    listaX = np.arange(x_inicio, x_final, 1)\n",
    "    listaY = []\n",
    "    for x in listaX:\n",
    "        y = (1/(sigma*np.sqrt(2*np.pi)))*np.exp((-1/2)*(x/sigma)**2)\n",
    "        listaY.append(y)\n",
    "    \n",
    "    plt.plot(listaX,listaY)\n",
    "    plt.xlabel(\"variable\")\n",
    "    plt.ylabel(\"frecuencia\")\n",
    "    plt.title(\"Función Gausseana\")\n",
    "    plt.show()\n",
    "\n",
    "print(\"Para x = 5 y resulta de\",Gauss1(5))\n",
    "print(,\"Para x de 1 a 10, con sigma = 1 resulta esta gráfica\")"
   ]
  },
  {
   "cell_type": "code",
   "execution_count": null,
   "id": "3a39719d-80d9-499c-ab1d-21d252d693d2",
   "metadata": {},
   "outputs": [],
   "source": []
  }
 ],
 "metadata": {
  "kernelspec": {
   "display_name": "CoCo",
   "language": "python",
   "name": "coco"
  },
  "language_info": {
   "codemirror_mode": {
    "name": "ipython",
    "version": 3
   },
   "file_extension": ".py",
   "mimetype": "text/x-python",
   "name": "python",
   "nbconvert_exporter": "python",
   "pygments_lexer": "ipython3",
   "version": "3.10.4"
  }
 },
 "nbformat": 4,
 "nbformat_minor": 5
}
