{
 "cells": [
  {
   "cell_type": "markdown",
   "id": "3d8199ca-108b-44af-9900-e61d2f253520",
   "metadata": {},
   "source": [
    "# Task 1"
   ]
  },
  {
   "cell_type": "code",
   "execution_count": 50,
   "id": "d27fc2ff-8b08-4d9e-ac4d-3233840a758d",
   "metadata": {},
   "outputs": [
    {
     "data": {
      "text/plain": [
       "[-1.0000000000000004,\n",
       " 5.0,\n",
       " 46.50000000000001,\n",
       " 25.0,\n",
       " 54.70000000000001,\n",
       " 15.0,\n",
       " 30.0,\n",
       " 17.5,\n",
       " -5.0]"
      ]
     },
     "execution_count": 50,
     "metadata": {},
     "output_type": "execute_result"
    }
   ],
   "source": [
    "# 1. Convierte la siguiente lista de temperaturas en Fahrenheit a grados Centígrados usando un for loop.\n",
    "\n",
    "temperaturas_f = [30.2, 41, 115.7, 77, 130.46, 59, 86, 63.5, 23]\n",
    "temperatura_c = []\n",
    "for farenheit in temperaturas_f:\n",
    "    celcius = 5/9*(farenheit - 32)\n",
    "    temperatura_c.append(celcius)\n",
    "#print(temperatura_c)\n",
    "temperatura_c"
   ]
  },
  {
   "cell_type": "code",
   "execution_count": 51,
   "id": "03c5977e-87be-4038-afba-dedb5c8134f5",
   "metadata": {},
   "outputs": [
    {
     "name": "stdout",
     "output_type": "stream",
     "text": [
      "-1.0000000000000004 es baja temperatura\n",
      "5.0 es normal\n",
      "46.50000000000001 es alta temperatura\n",
      "25.0 es normal\n",
      "54.70000000000001 es alta temperatura\n",
      "15.0 es normal\n",
      "30.0 es normal\n",
      "17.5 es normal\n",
      "-5.0 es baja temperatura\n"
     ]
    }
   ],
   "source": [
    "# 2.Utiliza for loops y condicionales para generar una alerta para temperaturas:\n",
    "\n",
    "for temperatura in temperatura_c:\n",
    "    if temperatura >= 35:\n",
    "        print(temperatura,\"es alta temperatura\")\n",
    "    elif temperatura <= 0:\n",
    "        print(temperatura,\"es baja temperatura\")\n",
    "    else:\n",
    "        print(temperatura,\"es normal\")"
   ]
  },
  {
   "cell_type": "code",
   "execution_count": 52,
   "id": "e1008cdb-ef97-4f33-ac5c-ff5f8881075d",
   "metadata": {},
   "outputs": [],
   "source": [
    "# 3.Genera dos funciones:\n",
    "# 3.1 una función que tome un único valor de temperatura en Fahrenheit y devuelve el mismo valor pero en Celsius.\n",
    "\n",
    "def FahrenheitCelcius(temperatura):\n",
    "    \"\"\"\n",
    "    Transforma la temperatura de Fahrenheit a Celcius\n",
    "    \n",
    "    Parameters\n",
    "    --------------------------------\n",
    "    temperatura: float or int\n",
    "                 Temperatura a Fahrenheit\n",
    "    \n",
    "    Returns\n",
    "    --------------------------------\n",
    "    resultado: floar or int\n",
    "               Temperatura en Celcius\n",
    "    \"\"\"\n",
    "    return 5/9*(temperatura-32)"
   ]
  },
  {
   "cell_type": "code",
   "execution_count": 53,
   "id": "2cbfe2a1-555c-4d14-8b8f-cbf868355467",
   "metadata": {},
   "outputs": [
    {
     "data": {
      "text/plain": [
       "5.0"
      ]
     },
     "execution_count": 53,
     "metadata": {},
     "output_type": "execute_result"
    }
   ],
   "source": [
    "FahrenheitCelcius(41)"
   ]
  },
  {
   "cell_type": "code",
   "execution_count": 54,
   "id": "d2680af8-51f0-4e7b-9f8b-ccd39b2fc4c5",
   "metadata": {},
   "outputs": [
    {
     "ename": "TypeError",
     "evalue": "FahrenheitCelcius() takes 1 positional argument but 9 were given",
     "output_type": "error",
     "traceback": [
      "\u001b[0;31m---------------------------------------------------------------------------\u001b[0m",
      "\u001b[0;31mTypeError\u001b[0m                                 Traceback (most recent call last)",
      "Input \u001b[0;32mIn [54]\u001b[0m, in \u001b[0;36m<cell line: 9>\u001b[0;34m()\u001b[0m\n\u001b[1;32m      6\u001b[0m         temperatura_c\u001b[38;5;241m.\u001b[39mappend(celcius)\n\u001b[1;32m      7\u001b[0m     \u001b[38;5;28;01mreturn\u001b[39;00m temperatura_c\n\u001b[0;32m----> 9\u001b[0m \u001b[43mFahrenheitCelcius\u001b[49m\u001b[43m(\u001b[49m\u001b[38;5;241;43m30.2\u001b[39;49m\u001b[43m,\u001b[49m\u001b[43m \u001b[49m\u001b[38;5;241;43m41\u001b[39;49m\u001b[43m,\u001b[49m\u001b[43m \u001b[49m\u001b[38;5;241;43m115.7\u001b[39;49m\u001b[43m,\u001b[49m\u001b[43m \u001b[49m\u001b[38;5;241;43m77\u001b[39;49m\u001b[43m,\u001b[49m\u001b[43m \u001b[49m\u001b[38;5;241;43m130.46\u001b[39;49m\u001b[43m,\u001b[49m\u001b[43m \u001b[49m\u001b[38;5;241;43m59\u001b[39;49m\u001b[43m,\u001b[49m\u001b[43m \u001b[49m\u001b[38;5;241;43m86\u001b[39;49m\u001b[43m,\u001b[49m\u001b[43m \u001b[49m\u001b[38;5;241;43m63.5\u001b[39;49m\u001b[43m,\u001b[49m\u001b[43m \u001b[49m\u001b[38;5;241;43m23\u001b[39;49m\u001b[43m)\u001b[49m\n",
      "\u001b[0;31mTypeError\u001b[0m: FahrenheitCelcius() takes 1 positional argument but 9 were given"
     ]
    }
   ],
   "source": [
    "# 3.1 Para un compilado de temperaturas: (REVISAR ESTO)\n",
    "def FahrenheitCelcius(temperaturas):\n",
    "    temperatura_c = []\n",
    "    for temperatura in temperaturas:\n",
    "        celcius = 5/9*(farenheit - 32)\n",
    "        temperatura_c.append(celcius)\n",
    "    return temperatura_c\n",
    "\n",
    "FahrenheitCelcius(30.2, 41, 115.7, 77, 130.46, 59, 86, 63.5, 23)"
   ]
  },
  {
   "cell_type": "code",
   "execution_count": null,
   "id": "068dbab0-5dd6-4fc3-8136-770d9eeaa88a",
   "metadata": {},
   "outputs": [],
   "source": [
    "# 3.2 Una función que toma un único valor de temperatura e imprime su correspondiente alerta de temperatura\n",
    "\n",
    "def alerta(temperatura):\n",
    "    \"\"\"\n",
    "    Convierte la temperatura de Fahrenheit a Celcius\n",
    "    \n",
    "    Parameters\n",
    "    --------------------------------\n",
    "    temperatura: float or int\n",
    "                 Temperatura en Fahrenheit\n",
    "    \n",
    "    Returns\n",
    "    --------------------------------\n",
    "    resultado: floar or int\n",
    "               Alerta de temperatura\n",
    "    \"\"\"\n",
    "    celcius = 5/9*(temperatura-32)\n",
    "    if celcius >= 35:\n",
    "        print(celcius,\"es alta temperatura\")\n",
    "    elif celcius <= 0:\n",
    "        print(celcius,\"es baja temperatura\")\n",
    "    else:\n",
    "        print(celcius,\"es normal\")\n",
    "\n",
    "alerta(41)"
   ]
  },
  {
   "cell_type": "markdown",
   "id": "653ea241-5d80-4593-834c-75c93f337b42",
   "metadata": {},
   "source": [
    "# Task 2"
   ]
  },
  {
   "cell_type": "code",
   "execution_count": 58,
   "id": "9260052a-2ef6-48df-a431-54197937d4b9",
   "metadata": {},
   "outputs": [],
   "source": [
    "# Monitorear la velocidad del viento y la visibilidad del aeropuerto. Crear una función de alerta.\n",
    "\n",
    "def Alerta_vuelo(velocidad,visibilidad):\n",
    "    \"\"\"\n",
    "    Indicar al piloto cómo está el clima para el despege de los aviones\n",
    "    \n",
    "    Parameters\n",
    "    --------------------------------\n",
    "    velocidad: int or float\n",
    "            velocidad del viento en nudos\n",
    "    visibilidad: int or float\n",
    "                 en metros\n",
    "       \n",
    "    Returns\n",
    "    --------------------------------\n",
    "    resultado: str\n",
    "               Alerta de condición climática para el despegue\n",
    "    \"\"\"\n",
    "    if velocidad > 12 or visibilidad < 100:\n",
    "        return \"Hay mal tiempo, la pista debe cerrarse\"\n",
    "    elif 8 < velocidad < 12:\n",
    "        return \"Precaución, hay vientos fuertes\"\n",
    "    elif 100 <= visibilidad <= 500:\n",
    "        return \"Cuidado, existen bajas condiciones de visibilidad\"\n",
    "    else:\n",
    "        return \"Buenas condiciones climáticas, que tenga un buen vuelo\"    "
   ]
  },
  {
   "cell_type": "code",
   "execution_count": 59,
   "id": "603eb770-76b2-4463-9827-30421ed978d6",
   "metadata": {},
   "outputs": [
    {
     "data": {
      "text/plain": [
       "'Hay mal tiempo, la pista debe cerrarse'"
      ]
     },
     "execution_count": 59,
     "metadata": {},
     "output_type": "execute_result"
    }
   ],
   "source": [
    "Alerta_vuelo(20,50)"
   ]
  },
  {
   "cell_type": "markdown",
   "id": "581665ed-74ce-4d79-9682-02d7edb725bc",
   "metadata": {},
   "source": [
    "# Task 3"
   ]
  },
  {
   "cell_type": "code",
   "execution_count": null,
   "id": "ce349c0f-4cef-46c1-a3d0-f52a7db97f16",
   "metadata": {},
   "outputs": [],
   "source": []
  }
 ],
 "metadata": {
  "kernelspec": {
   "display_name": "CoCo",
   "language": "python",
   "name": "coco"
  },
  "language_info": {
   "codemirror_mode": {
    "name": "ipython",
    "version": 3
   },
   "file_extension": ".py",
   "mimetype": "text/x-python",
   "name": "python",
   "nbconvert_exporter": "python",
   "pygments_lexer": "ipython3",
   "version": "3.10.4"
  }
 },
 "nbformat": 4,
 "nbformat_minor": 5
}
