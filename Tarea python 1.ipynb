{
 "cells": [
  {
   "cell_type": "markdown",
   "id": "2fab9a2a-481e-4cbe-96e6-9059160ef40b",
   "metadata": {},
   "source": [
    "### Task 1"
   ]
  },
  {
   "cell_type": "code",
   "execution_count": 38,
   "id": "174550df-059c-4a32-bf96-b4551544f609",
   "metadata": {},
   "outputs": [
    {
     "name": "stdout",
     "output_type": "stream",
     "text": [
      "['Mercurio', 'Venus', 'Tierra', 'Marte', 'Jupiter', 'Saturno', 'Urano', 'Neptuno']\n"
     ]
    }
   ],
   "source": [
    "Planetas = [\"Mercurio\",\"Venus\",\"Tierra\",\"Marte\",\"Jupiter\",\"Saturno\",\"Urano\",\"Neptuno\"]\n",
    "print(Planetas)"
   ]
  },
  {
   "cell_type": "code",
   "execution_count": 37,
   "id": "20df11b0-d8aa-40f8-a884-19df06f50345",
   "metadata": {},
   "outputs": [
    {
     "name": "stdout",
     "output_type": "stream",
     "text": [
      "Existen  8  planetas en el sistema solar\n"
     ]
    }
   ],
   "source": [
    "cantidad = len(Planetas)\n",
    "print(\"Existen \",cantidad,\" planetas en el sistema solar\")"
   ]
  },
  {
   "cell_type": "code",
   "execution_count": 39,
   "id": "71479351-6000-4653-a3da-e33d06ad96f6",
   "metadata": {},
   "outputs": [
    {
     "name": "stdout",
     "output_type": "stream",
     "text": [
      "los primeros 4 planetas del sistema solar son  ['Mercurio', 'Venus', 'Tierra', 'Marte']\n"
     ]
    }
   ],
   "source": [
    "cuatro =Planetas[:4]\n",
    "print(\"los primeros 4 planetas del sistema solar son \",cuatro)"
   ]
  },
  {
   "cell_type": "code",
   "execution_count": 20,
   "id": "3a7b7bad-0e62-4011-9e60-63cea571d5f5",
   "metadata": {},
   "outputs": [],
   "source": [
    "ese = Planetas[1]"
   ]
  },
  {
   "cell_type": "code",
   "execution_count": 24,
   "id": "46d457ee-6812-4332-a69b-4bc3d169f79e",
   "metadata": {},
   "outputs": [
    {
     "name": "stdout",
     "output_type": "stream",
     "text": [
      "el planeta que termina con una s del sistema solar es  Venus\n"
     ]
    }
   ],
   "source": [
    "print(\"el planeta que termina con una s del sistema solar es \",ese)"
   ]
  },
  {
   "cell_type": "markdown",
   "id": "d6910e98-bf74-4844-a414-05f616aea04a",
   "metadata": {},
   "source": [
    "## Task 2"
   ]
  },
  {
   "cell_type": "code",
   "execution_count": 30,
   "id": "9819a998-6a78-41da-803a-b96fd158e5bd",
   "metadata": {},
   "outputs": [],
   "source": [
    "temperaturaF = 30.3"
   ]
  },
  {
   "cell_type": "code",
   "execution_count": 33,
   "id": "d39973b3-93ed-4aa9-8688-166c61bed21c",
   "metadata": {},
   "outputs": [],
   "source": [
    "temperaturaC = (5/9)*(temperaturaF-32)"
   ]
  },
  {
   "cell_type": "code",
   "execution_count": 36,
   "id": "9839e4f7-fdd1-4425-a8f1-a89a4f6011bc",
   "metadata": {},
   "outputs": [
    {
     "name": "stdout",
     "output_type": "stream",
     "text": [
      "la temperatura en Farenheit es de  30.3 ,el cual en grados Celcius es de  -0.9444444444444441\n"
     ]
    }
   ],
   "source": [
    "print(\"la temperatura en Farenheit es de \",temperaturaF,\",el cual en grados Celcius es de \",temperaturaC)"
   ]
  },
  {
   "cell_type": "markdown",
   "id": "02146a93-02f8-482e-8984-48d9c206dd5b",
   "metadata": {},
   "source": [
    "## Task 3"
   ]
  },
  {
   "cell_type": "code",
   "execution_count": null,
   "id": "09bd7151-b11d-42dc-a0af-398d458823b6",
   "metadata": {},
   "outputs": [],
   "source": []
  }
 ],
 "metadata": {
  "kernelspec": {
   "display_name": "CoCo",
   "language": "python",
   "name": "coco"
  },
  "language_info": {
   "codemirror_mode": {
    "name": "ipython",
    "version": 3
   },
   "file_extension": ".py",
   "mimetype": "text/x-python",
   "name": "python",
   "nbconvert_exporter": "python",
   "pygments_lexer": "ipython3",
   "version": "3.10.4"
  }
 },
 "nbformat": 4,
 "nbformat_minor": 5
}
