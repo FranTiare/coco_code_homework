{
 "cells": [
  {
   "cell_type": "markdown",
   "id": "85a9c331-8929-4d32-930c-53f63f2daaf5",
   "metadata": {},
   "source": [
    "# Tarea principal"
   ]
  },
  {
   "cell_type": "markdown",
   "id": "662feadc-e6ea-41e0-bf26-2ae20bfe6cf4",
   "metadata": {},
   "source": [
    "Perfil de batimetría y perturbación de la gravedad de la isla de Oahu en Hawaii\n",
    "1. Cargar archivo\n",
    "2. Limpiar el DataFrame\n",
    "3. Graficar"
   ]
  },
  {
   "cell_type": "code",
   "execution_count": null,
   "id": "1232fccc-5a71-42e4-8dc1-c8a836eeb2ee",
   "metadata": {},
   "outputs": [],
   "source": []
  }
 ],
 "metadata": {
  "kernelspec": {
   "display_name": "CoCo",
   "language": "python",
   "name": "coco"
  },
  "language_info": {
   "codemirror_mode": {
    "name": "ipython",
    "version": 3
   },
   "file_extension": ".py",
   "mimetype": "text/x-python",
   "name": "python",
   "nbconvert_exporter": "python",
   "pygments_lexer": "ipython3",
   "version": "3.10.4"
  }
 },
 "nbformat": 4,
 "nbformat_minor": 5
}
