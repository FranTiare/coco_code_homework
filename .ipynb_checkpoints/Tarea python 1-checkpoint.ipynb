{
 "cells": [
  {
   "cell_type": "code",
   "execution_count": 4,
   "id": "174550df-059c-4a32-bf96-b4551544f609",
   "metadata": {},
   "outputs": [],
   "source": [
    "Lista = [\"Mercurio\",\"Venus\",\"Tierra\",\"Marte\",\"Jupiter\",\"Saturno\",\"Urano\",\"Neptuno\"]"
   ]
  },
  {
   "cell_type": "code",
   "execution_count": 5,
   "id": "11ea365d-7864-4a9d-a564-f6fd42287bf8",
   "metadata": {},
   "outputs": [
    {
     "data": {
      "text/plain": [
       "['Mercurio',\n",
       " 'Venus',\n",
       " 'Tierra',\n",
       " 'Marte',\n",
       " 'Jupiter',\n",
       " 'Saturno',\n",
       " 'Urano',\n",
       " 'Neptuno']"
      ]
     },
     "execution_count": 5,
     "metadata": {},
     "output_type": "execute_result"
    }
   ],
   "source": [
    "Lista"
   ]
  },
  {
   "cell_type": "code",
   "execution_count": 8,
   "id": "20df11b0-d8aa-40f8-a884-19df06f50345",
   "metadata": {},
   "outputs": [],
   "source": [
    "cantidad= len(Lista)"
   ]
  },
  {
   "cell_type": "code",
   "execution_count": 12,
   "id": "de5597da-a522-40c7-b48b-2ac0bbd9368c",
   "metadata": {},
   "outputs": [
    {
     "name": "stdout",
     "output_type": "stream",
     "text": [
      "Existen  8  planetas en el sistema solar\n"
     ]
    }
   ],
   "source": [
    "print(\"Existen \",cantidad,\" planetas en el sistema solar\")"
   ]
  },
  {
   "cell_type": "code",
   "execution_count": 16,
   "id": "71479351-6000-4653-a3da-e33d06ad96f6",
   "metadata": {},
   "outputs": [],
   "source": [
    "cuatro =Lista[:4]"
   ]
  },
  {
   "cell_type": "code",
   "execution_count": 18,
   "id": "5b574ccc-fdd3-490b-9ddd-aa3b5bd40124",
   "metadata": {},
   "outputs": [
    {
     "name": "stdout",
     "output_type": "stream",
     "text": [
      "los primeros 4 planetas del sistema solar son  ['Mercurio', 'Venus', 'Tierra', 'Marte']\n"
     ]
    }
   ],
   "source": [
    "print(\"los primeros 4 planetas del sistema solar son \",cuatro)"
   ]
  },
  {
   "cell_type": "code",
   "execution_count": 20,
   "id": "3a7b7bad-0e62-4011-9e60-63cea571d5f5",
   "metadata": {},
   "outputs": [],
   "source": [
    "ese = Lista[1]"
   ]
  },
  {
   "cell_type": "code",
   "execution_count": 21,
   "id": "46d457ee-6812-4332-a69b-4bc3d169f79e",
   "metadata": {},
   "outputs": [
    {
     "name": "stdout",
     "output_type": "stream",
     "text": [
      "el planeta que termina con una s del sistema solar es  Venus\n"
     ]
    }
   ],
   "source": [
    "print(\"el planeta que termina con una s del sistema solar es \",ese)"
   ]
  }
 ],
 "metadata": {
  "kernelspec": {
   "display_name": "Python 3 (ipykernel)",
   "language": "python",
   "name": "python3"
  },
  "language_info": {
   "codemirror_mode": {
    "name": "ipython",
    "version": 3
   },
   "file_extension": ".py",
   "mimetype": "text/x-python",
   "name": "python",
   "nbconvert_exporter": "python",
   "pygments_lexer": "ipython3",
   "version": "3.9.7"
  }
 },
 "nbformat": 4,
 "nbformat_minor": 5
}
